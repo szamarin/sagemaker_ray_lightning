{
 "cells": [
  {
   "cell_type": "code",
   "execution_count": 1,
   "id": "48db38e4",
   "metadata": {},
   "outputs": [],
   "source": [
    "import sagemaker\n",
    "from sagemaker.pytorch import PyTorch\n",
    "import boto3"
   ]
  },
  {
   "cell_type": "code",
   "execution_count": 2,
   "id": "08da3316",
   "metadata": {},
   "outputs": [],
   "source": [
    "s3_client = boto3.client(\"s3\")\n",
    "sess = sagemaker.session.Session()\n",
    "role = sagemaker.get_execution_role()\n",
    "bucket = sess.default_bucket()\n",
    "key_prefix = \"pt_lightning_ddp_tune\""
   ]
  },
  {
   "cell_type": "code",
   "execution_count": 9,
   "id": "ea1794ef",
   "metadata": {},
   "outputs": [
    {
     "name": "stdout",
     "output_type": "stream",
     "text": [
      "--2022-04-29 18:25:24--  https://www.cs.toronto.edu/~kriz/cifar-10-python.tar.gz\n",
      "Resolving www.cs.toronto.edu (www.cs.toronto.edu)... 128.100.3.30\n",
      "Connecting to www.cs.toronto.edu (www.cs.toronto.edu)|128.100.3.30|:443... connected.\n",
      "HTTP request sent, awaiting response... 200 OK\n",
      "Length: 170498071 (163M) [application/x-gzip]\n",
      "Saving to: ‘cifar-10-python.tar.gz’\n",
      "\n",
      "cifar-10-python.tar 100%[===================>] 162.60M  80.6MB/s    in 2.0s    \n",
      "\n",
      "2022-04-29 18:25:26 (80.6 MB/s) - ‘cifar-10-python.tar.gz’ saved [170498071/170498071]\n",
      "\n"
     ]
    }
   ],
   "source": [
    "!wget https://www.cs.toronto.edu/~kriz/cifar-10-python.tar.gz && tar xzf cifar-10-python.tar.gz && rm cifar-10-python.tar.gz"
   ]
  },
  {
   "cell_type": "code",
   "execution_count": 10,
   "id": "8076b117",
   "metadata": {},
   "outputs": [],
   "source": [
    "cifar_data_path = sess.upload_data(\"cifar-10-batches-py\", bucket, key_prefix=f\"{key_prefix}/input_data/cifar-10-batches-py\")"
   ]
  },
  {
   "cell_type": "code",
   "execution_count": 11,
   "id": "15f01272",
   "metadata": {},
   "outputs": [],
   "source": [
    "cifar_path = \"/\".join(cifar_data_path.split(\"/\")[:-1])"
   ]
  },
  {
   "cell_type": "code",
   "execution_count": 13,
   "id": "ae716085",
   "metadata": {},
   "outputs": [],
   "source": [
    "subnet=None\n",
    "security_group_ids=None"
   ]
  },
  {
   "cell_type": "code",
   "execution_count": 14,
   "id": "e310e2b8",
   "metadata": {},
   "outputs": [],
   "source": [
    "estimator_gpu_tune_cifar = PyTorch(\n",
    "    source_dir = \"src\",\n",
    "    entry_point=\"tune_cifar.py\",\n",
    "    subnets=subnet,\n",
    "    security_group_ids=security_group_ids,\n",
    "    role=role,\n",
    "    instance_count=4, \n",
    "    instance_type=\"ml.g5.12xlarge\",\n",
    "    framework_version=\"1.10\",\n",
    "    py_version=\"py38\",\n",
    "    hyperparameters={\"use-gpu\":True, \n",
    "                     \"num-samples\":10, \n",
    "                     \"num-workers\":2, \n",
    "                     \"num-epochs\":20}\n",
    ")"
   ]
  },
  {
   "cell_type": "code",
   "execution_count": null,
   "id": "f2c88c08",
   "metadata": {},
   "outputs": [
    {
     "name": "stdout",
     "output_type": "stream",
     "text": [
      "2022-04-29 18:26:59 Starting - Starting the training job...ProfilerReport-1651256818: InProgress\n",
      "...\n",
      "2022-04-29 18:27:43 Starting - Preparing the instances for training...."
     ]
    }
   ],
   "source": [
    "estimator_gpu_tune_cifar.fit({\"train\": cifar_path})"
   ]
  },
  {
   "cell_type": "code",
   "execution_count": null,
   "id": "9d261692",
   "metadata": {},
   "outputs": [],
   "source": []
  }
 ],
 "metadata": {
  "kernelspec": {
   "display_name": "conda_python3",
   "language": "python",
   "name": "conda_python3"
  },
  "language_info": {
   "codemirror_mode": {
    "name": "ipython",
    "version": 3
   },
   "file_extension": ".py",
   "mimetype": "text/x-python",
   "name": "python",
   "nbconvert_exporter": "python",
   "pygments_lexer": "ipython3",
   "version": "3.6.13"
  }
 },
 "nbformat": 4,
 "nbformat_minor": 5
}
